{
 "cells": [
  {
   "cell_type": "code",
   "execution_count": null,
   "id": "13ca2744",
   "metadata": {},
   "outputs": [],
   "source": [
    "# Write a Python function to sum all the numbers in a list."
   ]
  },
  {
   "cell_type": "code",
   "execution_count": 2,
   "id": "fce91956",
   "metadata": {},
   "outputs": [
    {
     "name": "stdout",
     "output_type": "stream",
     "text": [
      "Enter list element seperated by space : 8 2 3 0 7\n",
      "Addition :  20\n",
      "\n"
     ]
    }
   ],
   "source": [
    "def add(x):\n",
    "    list1=x.split()\n",
    "    sum=0\n",
    "    for i in list1:\n",
    "        sum+=int(i)\n",
    "    print(\"Addition : \",sum)\n",
    "    return \"\"\n",
    "x=input(\"Enter list element seperated by space : \")\n",
    "print(add(x))"
   ]
  },
  {
   "cell_type": "code",
   "execution_count": null,
   "id": "2c118638",
   "metadata": {},
   "outputs": [],
   "source": []
  }
 ],
 "metadata": {
  "kernelspec": {
   "display_name": "Python 3 (ipykernel)",
   "language": "python",
   "name": "python3"
  },
  "language_info": {
   "codemirror_mode": {
    "name": "ipython",
    "version": 3
   },
   "file_extension": ".py",
   "mimetype": "text/x-python",
   "name": "python",
   "nbconvert_exporter": "python",
   "pygments_lexer": "ipython3",
   "version": "3.9.13"
  }
 },
 "nbformat": 4,
 "nbformat_minor": 5
}
