{
 "cells": [
  {
   "cell_type": "code",
   "execution_count": null,
   "id": "8a5024dd",
   "metadata": {},
   "outputs": [],
   "source": [
    "# Write a Python program to reverse a string."
   ]
  },
  {
   "cell_type": "code",
   "execution_count": 1,
   "id": "d3e22746",
   "metadata": {},
   "outputs": [
    {
     "name": "stdout",
     "output_type": "stream",
     "text": [
      "Enter your string : 1234abcd\n",
      "dcba4321\n"
     ]
    }
   ],
   "source": [
    "def reverse_string(x):\n",
    "    for i in range((len(x)-1),-1,-1):\n",
    "        print(x[i], end=\"\")\n",
    "    return \"\"\n",
    "x=input(\"Enter your string : \")\n",
    "print(reverse_string(x))"
   ]
  },
  {
   "cell_type": "code",
   "execution_count": null,
   "id": "0bdb9612",
   "metadata": {},
   "outputs": [],
   "source": []
  }
 ],
 "metadata": {
  "kernelspec": {
   "display_name": "Python 3 (ipykernel)",
   "language": "python",
   "name": "python3"
  },
  "language_info": {
   "codemirror_mode": {
    "name": "ipython",
    "version": 3
   },
   "file_extension": ".py",
   "mimetype": "text/x-python",
   "name": "python",
   "nbconvert_exporter": "python",
   "pygments_lexer": "ipython3",
   "version": "3.9.13"
  }
 },
 "nbformat": 4,
 "nbformat_minor": 5
}
