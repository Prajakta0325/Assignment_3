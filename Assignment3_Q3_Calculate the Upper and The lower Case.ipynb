{
 "cells": [
  {
   "cell_type": "code",
   "execution_count": null,
   "id": "ebb29b3f",
   "metadata": {},
   "outputs": [],
   "source": [
    "#Write a Python function that accepts a string and calculate the number of upper case letters and lower case letters."
   ]
  },
  {
   "cell_type": "code",
   "execution_count": 1,
   "id": "4a74ac75",
   "metadata": {},
   "outputs": [
    {
     "name": "stdout",
     "output_type": "stream",
     "text": [
      "Enter your string : The quick Brow Fox\n",
      "No. of Upper case characters :  3\n",
      "No. of lower case characters :  12\n",
      "\n"
     ]
    }
   ],
   "source": [
    "def upper_lower(string1):\n",
    "    count_uppercase =0\n",
    "    count_lowercase =0\n",
    "    for i in string1:\n",
    "        if (i.isupper()):\n",
    "            count_uppercase=count_uppercase+1\n",
    "        elif (i.islower()):\n",
    "            count_lowercase=count_lowercase+1\n",
    "    print(\"No. of Upper case characters : \",count_uppercase)\n",
    "    print(\"No. of lower case characters : \",count_lowercase)\n",
    "    return \"\"\n",
    "string1=input(\"Enter your string : \")\n",
    "print(upper_lower(string1))"
   ]
  },
  {
   "cell_type": "code",
   "execution_count": null,
   "id": "6a6b9894",
   "metadata": {},
   "outputs": [],
   "source": []
  }
 ],
 "metadata": {
  "kernelspec": {
   "display_name": "Python 3 (ipykernel)",
   "language": "python",
   "name": "python3"
  },
  "language_info": {
   "codemirror_mode": {
    "name": "ipython",
    "version": 3
   },
   "file_extension": ".py",
   "mimetype": "text/x-python",
   "name": "python",
   "nbconvert_exporter": "python",
   "pygments_lexer": "ipython3",
   "version": "3.9.13"
  }
 },
 "nbformat": 4,
 "nbformat_minor": 5
}
